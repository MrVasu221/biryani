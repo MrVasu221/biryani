{
  "nbformat": 4,
  "nbformat_minor": 0,
  "metadata": {
    "colab": {
      "provenance": [],
      "authorship_tag": "ABX9TyODtQp2fKxGJCPQsdMuJ0Xc",
      "include_colab_link": true
    },
    "kernelspec": {
      "name": "python3",
      "display_name": "Python 3"
    },
    "language_info": {
      "name": "python"
    }
  },
  "cells": [
    {
      "cell_type": "markdown",
      "metadata": {
        "id": "view-in-github",
        "colab_type": "text"
      },
      "source": [
        "<a href=\"https://colab.research.google.com/github/MrVasu221/biryani/blob/main/29072023.ipynb\" target=\"_parent\"><img src=\"https://colab.research.google.com/assets/colab-badge.svg\" alt=\"Open In Colab\"/></a>"
      ]
    },
    {
      "cell_type": "code",
      "source": [
        "m=int(input(\"enter month\"));\n",
        "if(m==2):\n",
        "  print(\"28 days/29 days\")\n",
        "elif m in[1,3,5,7,8,10,12]:\n",
        "    print(\"31 days\")\n",
        "else:\n",
        "    print(\"30 days\")\n",
        "\n"
      ],
      "metadata": {
        "colab": {
          "base_uri": "https://localhost:8080/"
        },
        "id": "iaOOkX8OzqPJ",
        "outputId": "848e6cc4-a513-496c-de63-451bcedfc5b9"
      },
      "execution_count": 15,
      "outputs": [
        {
          "output_type": "stream",
          "name": "stdout",
          "text": [
            "enter month5\n",
            "31 days\n"
          ]
        }
      ]
    },
    {
      "cell_type": "code",
      "source": [],
      "metadata": {
        "id": "1QLsmkeU0G1u"
      },
      "execution_count": null,
      "outputs": []
    }
  ]
}