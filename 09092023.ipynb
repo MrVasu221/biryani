{
  "nbformat": 4,
  "nbformat_minor": 0,
  "metadata": {
    "colab": {
      "provenance": [],
      "authorship_tag": "ABX9TyO5mYFT52IS+ffjMjYwbZaO",
      "include_colab_link": true
    },
    "kernelspec": {
      "name": "python3",
      "display_name": "Python 3"
    },
    "language_info": {
      "name": "python"
    }
  },
  "cells": [
    {
      "cell_type": "markdown",
      "metadata": {
        "id": "view-in-github",
        "colab_type": "text"
      },
      "source": [
        "<a href=\"https://colab.research.google.com/github/MrVasu221/biryani/blob/main/09092023.ipynb\" target=\"_parent\"><img src=\"https://colab.research.google.com/assets/colab-badge.svg\" alt=\"Open In Colab\"/></a>"
      ]
    },
    {
      "cell_type": "code",
      "execution_count": 11,
      "metadata": {
        "colab": {
          "base_uri": "https://localhost:8080/"
        },
        "id": "bumRx4M6YT_3",
        "outputId": "f0022ae5-85d6-4f02-a891-e91b087af285"
      },
      "outputs": [
        {
          "output_type": "stream",
          "name": "stdout",
          "text": [
            "1264460\n",
            " 1547860\n",
            " 1727636\n",
            "1305184\n",
            "sociable number\n"
          ]
        }
      ],
      "source": [
        "n1=int(input())\n",
        "n2=int(input())\n",
        "n3=int(input())\n",
        "n4=int(input())\n",
        "s1=0\n",
        "s2=0\n",
        "s3=0\n",
        "s4=0\n",
        "for i in range(1,n1):\n",
        "  if n1%i==0:\n",
        "    s1=s1+i\n",
        "for i in range(1,n2):\n",
        "  if n2%i==0:\n",
        "    s2=s2+i\n",
        "for i in range(1,n3):\n",
        "  if n3%i==0:\n",
        "    s3=s3+i\n",
        "for i in range(1,n4):\n",
        "  if n4%i==0:\n",
        "    s4=s4+i\n",
        "if (s1==n2 and s2==n3 and s3==n4 and s4==n1):\n",
        "  print(\"sociable number\")\n",
        "else:\n",
        "  print(\"not sociable number\")\n"
      ]
    }
  ]
}