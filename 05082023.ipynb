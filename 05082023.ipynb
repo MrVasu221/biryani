{
  "nbformat": 4,
  "nbformat_minor": 0,
  "metadata": {
    "colab": {
      "provenance": [],
      "authorship_tag": "ABX9TyM8Gwwb6EXgjAfY2wNm6n6t"
    },
    "kernelspec": {
      "name": "python3",
      "display_name": "Python 3"
    },
    "language_info": {
      "name": "python"
    }
  },
  "cells": [
    {
      "cell_type": "code",
      "execution_count": 7,
      "metadata": {
        "colab": {
          "base_uri": "https://localhost:8080/"
        },
        "id": "nb-ikAgZQruy",
        "outputId": "d90421cb-1191-4d27-ffde-4f897415437e"
      },
      "outputs": [
        {
          "output_type": "stream",
          "name": "stdout",
          "text": [
            "2\n",
            "0\n",
            "1\n",
            "8\n"
          ]
        }
      ],
      "source": [
        "n=int(input())\n",
        "for i in range(n+1):\n",
        " print(i**3)"
      ]
    },
    {
      "cell_type": "code",
      "source": [
        "s=\"welcome to hell\".split()\n",
        "n=\" \"\n",
        "for i in s[::-1]:\n",
        "  n+=i+\" \"\n",
        "  st=n[:-1]\n",
        "print(st)"
      ],
      "metadata": {
        "colab": {
          "base_uri": "https://localhost:8080/"
        },
        "id": "kbP6nSbSRa9L",
        "outputId": "262badd1-27a4-4146-9600-9bd65352b6ae"
      },
      "execution_count": 13,
      "outputs": [
        {
          "output_type": "stream",
          "name": "stdout",
          "text": [
            " hell to welcome\n"
          ]
        }
      ]
    }
  ]
}