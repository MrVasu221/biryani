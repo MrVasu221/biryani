{
  "nbformat": 4,
  "nbformat_minor": 0,
  "metadata": {
    "colab": {
      "provenance": [],
      "authorship_tag": "ABX9TyORpA7n6FuN9pqXkXDWTl/y",
      "include_colab_link": true
    },
    "kernelspec": {
      "name": "python3",
      "display_name": "Python 3"
    },
    "language_info": {
      "name": "python"
    }
  },
  "cells": [
    {
      "cell_type": "markdown",
      "metadata": {
        "id": "view-in-github",
        "colab_type": "text"
      },
      "source": [
        "<a href=\"https://colab.research.google.com/github/MrVasu221/biryani/blob/main/04-08-2023.ipynb\" target=\"_parent\"><img src=\"https://colab.research.google.com/assets/colab-badge.svg\" alt=\"Open In Colab\"/></a>"
      ]
    },
    {
      "cell_type": "code",
      "execution_count": 5,
      "metadata": {
        "colab": {
          "base_uri": "https://localhost:8080/"
        },
        "id": "7oX1ig-Q_nLC",
        "outputId": "7015bd73-f6ee-4ab3-f803-a9c0b58ef707"
      },
      "outputs": [
        {
          "output_type": "stream",
          "name": "stdout",
          "text": [
            "[0, 0, 1, 6, 21, 78, 5]\n"
          ]
        }
      ],
      "source": [
        "nums=[1,6,21,0,78,0,5]\n",
        "n1=[]\n",
        "n2=[]\n",
        "for i in nums:\n",
        "  if i==0:\n",
        "    n1.append(i)\n",
        "  else:\n",
        "      n2.append(i)\n",
        "print(n1+n2)"
      ]
    },
    {
      "cell_type": "code",
      "source": [],
      "metadata": {
        "id": "ehyyxelJAEX1"
      },
      "execution_count": null,
      "outputs": []
    }
  ]
}